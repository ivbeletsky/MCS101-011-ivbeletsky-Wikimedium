{
  "nbformat": 4,
  "nbformat_minor": 0,
  "metadata": {
    "colab": {
      "provenance": [],
      "authorship_tag": "ABX9TyPTCHlHAeKuYHerAHf5qqEO",
      "include_colab_link": true
    },
    "kernelspec": {
      "name": "python3",
      "display_name": "Python 3"
    },
    "language_info": {
      "name": "python"
    }
  },
  "cells": [
    {
      "cell_type": "markdown",
      "metadata": {
        "id": "view-in-github",
        "colab_type": "text"
      },
      "source": [
        "<a href=\"https://colab.research.google.com/github/ivbeletsky/MCS101-011-ivbeletsky-Wikimedium/blob/master/NCD.ipynb\" target=\"_parent\"><img src=\"https://colab.research.google.com/assets/colab-badge.svg\" alt=\"Open In Colab\"/></a>"
      ]
    },
    {
      "cell_type": "code",
      "execution_count": 13,
      "metadata": {
        "id": "Z0Uj-5nzn5tU"
      },
      "outputs": [],
      "source": [
        "import pandas as pd"
      ]
    },
    {
      "cell_type": "code",
      "source": [
        "data = pd.read_excel('NCD_2.xlsx')"
      ],
      "metadata": {
        "id": "w9uamXX3n88L"
      },
      "execution_count": 14,
      "outputs": []
    },
    {
      "cell_type": "code",
      "source": [
        "data\n",
        "\n",
        "approved_names = ['AGRICULTURAL BANK OF CHINA', 'China Construction Bank Corporation', 'BANK OF CHINA', 'ICBC']\n",
        "approved_maturity_days = 130\n"
      ],
      "metadata": {
        "id": "C6-l3OzXoL1i"
      },
      "execution_count": 15,
      "outputs": []
    },
    {
      "cell_type": "code",
      "source": [
        "data_filtered = data.query('Issuer in @approved_names' and 'Days_to_maturity <= @approved_maturity_days')"
      ],
      "metadata": {
        "id": "e7Q6C3sgod4C"
      },
      "execution_count": 16,
      "outputs": []
    },
    {
      "cell_type": "code",
      "source": [
        "data_filtered"
      ],
      "metadata": {
        "colab": {
          "base_uri": "https://localhost:8080/",
          "height": 424
        },
        "id": "iw5_18uIpqt5",
        "outputId": "5bb4668b-1825-4f3e-d5db-42695cb5e8a9"
      },
      "execution_count": 17,
      "outputs": [
        {
          "output_type": "execute_result",
          "data": {
            "text/plain": [
              "            Symbol                          Short Name  \\\n",
              "0     112203049.IB  AGRICULTURAL BANK OF CHINA B230523   \n",
              "1     112205076.IB                         CCB B230523   \n",
              "2     112305080.IB                         CCB B230523   \n",
              "3     112203079.IB  AGRICULTURAL BANK OF CHINA B230524   \n",
              "4     112205077.IB                         CCB B230524   \n",
              "...            ...                                 ...   \n",
              "6723  112205152.IB                         CCB B230919   \n",
              "6724  112205153.IB                         CCB B230920   \n",
              "6725  112202009.IB                        ICBC B230922   \n",
              "6726  112205154.IB                         CCB B230926   \n",
              "6727  112203095.IB  AGRICULTURAL BANK OF CHINA B230927   \n",
              "\n",
              "      Estimated Yield (SHCH)\\n[Date] Last Closing Day  \\\n",
              "0                                              1.7578   \n",
              "1                                              1.8205   \n",
              "2                                              1.6632   \n",
              "3                                              1.7024   \n",
              "4                                              1.8772   \n",
              "...                                               ...   \n",
              "6723                                           2.2620   \n",
              "6724                                           2.2116   \n",
              "6725                                           2.2841   \n",
              "6726                                           2.1810   \n",
              "6727                                           2.2391   \n",
              "\n",
              "                                   Issuer Listing Date Maturity Date  \\\n",
              "0              AGRICULTURAL BANK OF CHINA   2022-05-23    2023-05-23   \n",
              "1     China Construction Bank Corporation   2022-05-23    2023-05-23   \n",
              "2     China Construction Bank Corporation   2023-04-23    2023-05-23   \n",
              "3              AGRICULTURAL BANK OF CHINA   2022-08-24    2023-05-24   \n",
              "4     China Construction Bank Corporation   2022-05-24    2023-05-24   \n",
              "...                                   ...          ...           ...   \n",
              "6723  China Construction Bank Corporation   2022-09-19    2023-09-19   \n",
              "6724  China Construction Bank Corporation   2022-09-20    2023-09-20   \n",
              "6725                                 ICBC   2022-12-22    2023-09-22   \n",
              "6726  China Construction Bank Corporation   2022-09-26    2023-09-26   \n",
              "6727           AGRICULTURAL BANK OF CHINA   2022-09-27    2023-09-27   \n",
              "\n",
              "      Days_to_maturity  \n",
              "0                  1.0  \n",
              "1                  1.0  \n",
              "2                  1.0  \n",
              "3                  2.0  \n",
              "4                  2.0  \n",
              "...                ...  \n",
              "6723             120.0  \n",
              "6724             121.0  \n",
              "6725             123.0  \n",
              "6726             127.0  \n",
              "6727             128.0  \n",
              "\n",
              "[170 rows x 7 columns]"
            ],
            "text/html": [
              "\n",
              "  <div id=\"df-e8d26c68-93c8-4601-9f00-049f4264338e\">\n",
              "    <div class=\"colab-df-container\">\n",
              "      <div>\n",
              "<style scoped>\n",
              "    .dataframe tbody tr th:only-of-type {\n",
              "        vertical-align: middle;\n",
              "    }\n",
              "\n",
              "    .dataframe tbody tr th {\n",
              "        vertical-align: top;\n",
              "    }\n",
              "\n",
              "    .dataframe thead th {\n",
              "        text-align: right;\n",
              "    }\n",
              "</style>\n",
              "<table border=\"1\" class=\"dataframe\">\n",
              "  <thead>\n",
              "    <tr style=\"text-align: right;\">\n",
              "      <th></th>\n",
              "      <th>Symbol</th>\n",
              "      <th>Short Name</th>\n",
              "      <th>Estimated Yield (SHCH)\\n[Date] Last Closing Day</th>\n",
              "      <th>Issuer</th>\n",
              "      <th>Listing Date</th>\n",
              "      <th>Maturity Date</th>\n",
              "      <th>Days_to_maturity</th>\n",
              "    </tr>\n",
              "  </thead>\n",
              "  <tbody>\n",
              "    <tr>\n",
              "      <th>0</th>\n",
              "      <td>112203049.IB</td>\n",
              "      <td>AGRICULTURAL BANK OF CHINA B230523</td>\n",
              "      <td>1.7578</td>\n",
              "      <td>AGRICULTURAL BANK OF CHINA</td>\n",
              "      <td>2022-05-23</td>\n",
              "      <td>2023-05-23</td>\n",
              "      <td>1.0</td>\n",
              "    </tr>\n",
              "    <tr>\n",
              "      <th>1</th>\n",
              "      <td>112205076.IB</td>\n",
              "      <td>CCB B230523</td>\n",
              "      <td>1.8205</td>\n",
              "      <td>China Construction Bank Corporation</td>\n",
              "      <td>2022-05-23</td>\n",
              "      <td>2023-05-23</td>\n",
              "      <td>1.0</td>\n",
              "    </tr>\n",
              "    <tr>\n",
              "      <th>2</th>\n",
              "      <td>112305080.IB</td>\n",
              "      <td>CCB B230523</td>\n",
              "      <td>1.6632</td>\n",
              "      <td>China Construction Bank Corporation</td>\n",
              "      <td>2023-04-23</td>\n",
              "      <td>2023-05-23</td>\n",
              "      <td>1.0</td>\n",
              "    </tr>\n",
              "    <tr>\n",
              "      <th>3</th>\n",
              "      <td>112203079.IB</td>\n",
              "      <td>AGRICULTURAL BANK OF CHINA B230524</td>\n",
              "      <td>1.7024</td>\n",
              "      <td>AGRICULTURAL BANK OF CHINA</td>\n",
              "      <td>2022-08-24</td>\n",
              "      <td>2023-05-24</td>\n",
              "      <td>2.0</td>\n",
              "    </tr>\n",
              "    <tr>\n",
              "      <th>4</th>\n",
              "      <td>112205077.IB</td>\n",
              "      <td>CCB B230524</td>\n",
              "      <td>1.8772</td>\n",
              "      <td>China Construction Bank Corporation</td>\n",
              "      <td>2022-05-24</td>\n",
              "      <td>2023-05-24</td>\n",
              "      <td>2.0</td>\n",
              "    </tr>\n",
              "    <tr>\n",
              "      <th>...</th>\n",
              "      <td>...</td>\n",
              "      <td>...</td>\n",
              "      <td>...</td>\n",
              "      <td>...</td>\n",
              "      <td>...</td>\n",
              "      <td>...</td>\n",
              "      <td>...</td>\n",
              "    </tr>\n",
              "    <tr>\n",
              "      <th>6723</th>\n",
              "      <td>112205152.IB</td>\n",
              "      <td>CCB B230919</td>\n",
              "      <td>2.2620</td>\n",
              "      <td>China Construction Bank Corporation</td>\n",
              "      <td>2022-09-19</td>\n",
              "      <td>2023-09-19</td>\n",
              "      <td>120.0</td>\n",
              "    </tr>\n",
              "    <tr>\n",
              "      <th>6724</th>\n",
              "      <td>112205153.IB</td>\n",
              "      <td>CCB B230920</td>\n",
              "      <td>2.2116</td>\n",
              "      <td>China Construction Bank Corporation</td>\n",
              "      <td>2022-09-20</td>\n",
              "      <td>2023-09-20</td>\n",
              "      <td>121.0</td>\n",
              "    </tr>\n",
              "    <tr>\n",
              "      <th>6725</th>\n",
              "      <td>112202009.IB</td>\n",
              "      <td>ICBC B230922</td>\n",
              "      <td>2.2841</td>\n",
              "      <td>ICBC</td>\n",
              "      <td>2022-12-22</td>\n",
              "      <td>2023-09-22</td>\n",
              "      <td>123.0</td>\n",
              "    </tr>\n",
              "    <tr>\n",
              "      <th>6726</th>\n",
              "      <td>112205154.IB</td>\n",
              "      <td>CCB B230926</td>\n",
              "      <td>2.1810</td>\n",
              "      <td>China Construction Bank Corporation</td>\n",
              "      <td>2022-09-26</td>\n",
              "      <td>2023-09-26</td>\n",
              "      <td>127.0</td>\n",
              "    </tr>\n",
              "    <tr>\n",
              "      <th>6727</th>\n",
              "      <td>112203095.IB</td>\n",
              "      <td>AGRICULTURAL BANK OF CHINA B230927</td>\n",
              "      <td>2.2391</td>\n",
              "      <td>AGRICULTURAL BANK OF CHINA</td>\n",
              "      <td>2022-09-27</td>\n",
              "      <td>2023-09-27</td>\n",
              "      <td>128.0</td>\n",
              "    </tr>\n",
              "  </tbody>\n",
              "</table>\n",
              "<p>170 rows × 7 columns</p>\n",
              "</div>\n",
              "      <button class=\"colab-df-convert\" onclick=\"convertToInteractive('df-e8d26c68-93c8-4601-9f00-049f4264338e')\"\n",
              "              title=\"Convert this dataframe to an interactive table.\"\n",
              "              style=\"display:none;\">\n",
              "        \n",
              "  <svg xmlns=\"http://www.w3.org/2000/svg\" height=\"24px\"viewBox=\"0 0 24 24\"\n",
              "       width=\"24px\">\n",
              "    <path d=\"M0 0h24v24H0V0z\" fill=\"none\"/>\n",
              "    <path d=\"M18.56 5.44l.94 2.06.94-2.06 2.06-.94-2.06-.94-.94-2.06-.94 2.06-2.06.94zm-11 1L8.5 8.5l.94-2.06 2.06-.94-2.06-.94L8.5 2.5l-.94 2.06-2.06.94zm10 10l.94 2.06.94-2.06 2.06-.94-2.06-.94-.94-2.06-.94 2.06-2.06.94z\"/><path d=\"M17.41 7.96l-1.37-1.37c-.4-.4-.92-.59-1.43-.59-.52 0-1.04.2-1.43.59L10.3 9.45l-7.72 7.72c-.78.78-.78 2.05 0 2.83L4 21.41c.39.39.9.59 1.41.59.51 0 1.02-.2 1.41-.59l7.78-7.78 2.81-2.81c.8-.78.8-2.07 0-2.86zM5.41 20L4 18.59l7.72-7.72 1.47 1.35L5.41 20z\"/>\n",
              "  </svg>\n",
              "      </button>\n",
              "      \n",
              "  <style>\n",
              "    .colab-df-container {\n",
              "      display:flex;\n",
              "      flex-wrap:wrap;\n",
              "      gap: 12px;\n",
              "    }\n",
              "\n",
              "    .colab-df-convert {\n",
              "      background-color: #E8F0FE;\n",
              "      border: none;\n",
              "      border-radius: 50%;\n",
              "      cursor: pointer;\n",
              "      display: none;\n",
              "      fill: #1967D2;\n",
              "      height: 32px;\n",
              "      padding: 0 0 0 0;\n",
              "      width: 32px;\n",
              "    }\n",
              "\n",
              "    .colab-df-convert:hover {\n",
              "      background-color: #E2EBFA;\n",
              "      box-shadow: 0px 1px 2px rgba(60, 64, 67, 0.3), 0px 1px 3px 1px rgba(60, 64, 67, 0.15);\n",
              "      fill: #174EA6;\n",
              "    }\n",
              "\n",
              "    [theme=dark] .colab-df-convert {\n",
              "      background-color: #3B4455;\n",
              "      fill: #D2E3FC;\n",
              "    }\n",
              "\n",
              "    [theme=dark] .colab-df-convert:hover {\n",
              "      background-color: #434B5C;\n",
              "      box-shadow: 0px 1px 3px 1px rgba(0, 0, 0, 0.15);\n",
              "      filter: drop-shadow(0px 1px 2px rgba(0, 0, 0, 0.3));\n",
              "      fill: #FFFFFF;\n",
              "    }\n",
              "  </style>\n",
              "\n",
              "      <script>\n",
              "        const buttonEl =\n",
              "          document.querySelector('#df-e8d26c68-93c8-4601-9f00-049f4264338e button.colab-df-convert');\n",
              "        buttonEl.style.display =\n",
              "          google.colab.kernel.accessAllowed ? 'block' : 'none';\n",
              "\n",
              "        async function convertToInteractive(key) {\n",
              "          const element = document.querySelector('#df-e8d26c68-93c8-4601-9f00-049f4264338e');\n",
              "          const dataTable =\n",
              "            await google.colab.kernel.invokeFunction('convertToInteractive',\n",
              "                                                     [key], {});\n",
              "          if (!dataTable) return;\n",
              "\n",
              "          const docLinkHtml = 'Like what you see? Visit the ' +\n",
              "            '<a target=\"_blank\" href=https://colab.research.google.com/notebooks/data_table.ipynb>data table notebook</a>'\n",
              "            + ' to learn more about interactive tables.';\n",
              "          element.innerHTML = '';\n",
              "          dataTable['output_type'] = 'display_data';\n",
              "          await google.colab.output.renderOutput(dataTable, element);\n",
              "          const docLink = document.createElement('div');\n",
              "          docLink.innerHTML = docLinkHtml;\n",
              "          element.appendChild(docLink);\n",
              "        }\n",
              "      </script>\n",
              "    </div>\n",
              "  </div>\n",
              "  "
            ]
          },
          "metadata": {},
          "execution_count": 17
        }
      ]
    },
    {
      "cell_type": "code",
      "source": [
        "def mean_yield(approved_names):\n",
        "  for index in approved_names:\n",
        "    print(index,':',data_filtered.query('Issuer == @index')['Estimated Yield (SHCH)\\n[Date] Last Closing Day'].mean().round(3))\n",
        "\n",
        "\n",
        "def mean_maturity(approved_names):\n",
        "  for index in approved_names:\n",
        "    print(index,':',data_filtered.query('Issuer == @index')['Days_to_maturity'].mean().round(3))\n",
        "\n",
        "\n",
        "\n",
        "def ncd_count(approved_names):\n",
        "  for index in approved_names:\n",
        "    print(index,':',data_filtered.query('Issuer == @index')['Symbol'].count().round(3))\n",
        "\n"
      ],
      "metadata": {
        "id": "cWaM-mA8rsML"
      },
      "execution_count": 18,
      "outputs": []
    },
    {
      "cell_type": "code",
      "source": [
        "mean_yield(approved_names)\n",
        "print()\n",
        "mean_maturity(approved_names)\n",
        "print()\n",
        "ncd_count(approved_names)"
      ],
      "metadata": {
        "colab": {
          "base_uri": "https://localhost:8080/"
        },
        "id": "A0LnMmJN1Du7",
        "outputId": "8ce07d8a-0fb6-44e6-8872-e7af4bf58bee"
      },
      "execution_count": 19,
      "outputs": [
        {
          "output_type": "stream",
          "name": "stdout",
          "text": [
            "AGRICULTURAL BANK OF CHINA : 2.076\n",
            "China Construction Bank Corporation : 2.057\n",
            "BANK OF CHINA : 2.085\n",
            "ICBC : 2.145\n",
            "\n",
            "AGRICULTURAL BANK OF CHINA : 53.615\n",
            "China Construction Bank Corporation : 50.544\n",
            "BANK OF CHINA : 60.375\n",
            "ICBC : 71.75\n",
            "\n",
            "AGRICULTURAL BANK OF CHINA : 78\n",
            "China Construction Bank Corporation : 68\n",
            "BANK OF CHINA : 16\n",
            "ICBC : 8\n"
          ]
        }
      ]
    },
    {
      "cell_type": "code",
      "source": [
        "import seaborn\n",
        "icbc = data_filtered.query('Issuer == \"ICBC\"')\n",
        "seaborn.barplot(data = icbc,x = 'Estimated Yield (SHCH)\\n[Date] Last Closing Day', y='Days_to_maturity')"
      ],
      "metadata": {
        "colab": {
          "base_uri": "https://localhost:8080/",
          "height": 483
        },
        "id": "EivQ8wVp152J",
        "outputId": "a9fe0600-3dc8-4ca9-87bc-a92035f08a73"
      },
      "execution_count": 20,
      "outputs": [
        {
          "output_type": "execute_result",
          "data": {
            "text/plain": [
              "<Axes: xlabel='Estimated Yield (SHCH)\\n[Date] Last Closing Day', ylabel='Days_to_maturity'>"
            ]
          },
          "metadata": {},
          "execution_count": 20
        },
        {
          "output_type": "display_data",
          "data": {
            "text/plain": [
              "<Figure size 640x480 with 1 Axes>"
            ],
            "image/png": "[encoded data removed]"
          },
          "metadata": {}
        }
      ]
    },
    {
      "cell_type": "code",
      "source": [
        "fig = px.scatter(x =data_filtered['Estimated Yield (SHCH)\\n[Date] Last Closing Day'], y = data_filtered['Days_to_maturity'] )\n",
        "fig.show()\n",
        "\n",
        "fig = px.scatter(data_filtered, x=\"Estimated Yield (SHCH)\\n[Date] Last Closing Day\", y=\"Days_to_maturity\", color=\"Issuer\",\n",
        "                 )\n",
        "fig.show()"
      ],
      "metadata": {
        "colab": {
          "base_uri": "https://localhost:8080/",
          "height": 1000
        },
        "id": "FHZjfk1q4EYH",
        "outputId": "7413f432-aae5-4140-b133-8eb18107f8ef"
      },
      "execution_count": 25,
      "outputs": [
        {
          "output_type": "display_data",
          "data": {
            "text/html": [
              "<html>\n",
              "<head><meta charset=\"utf-8\" /></head>\n",
              "<body>\n",
              "    <div>            <script src=\"https://cdnjs.cloudflare.com/ajax/libs/mathjax/2.7.5/MathJax.js?config=TeX-AMS-MML_SVG\"></script><script type=\"text/javascript\">if (window.MathJax && window.MathJax.Hub && window.MathJax.Hub.Config) {window.MathJax.Hub.Config({SVG: {font: \"STIX-Web\"}});}</script>                <script type=\"text/javascript\">window.PlotlyConfig = {MathJaxConfig: 'local'};</script>\n",
              "        <script src=\"https://cdn.plot.ly/plotly-2.18.2.min.js\"></script>                <div id=\"522679a8-63ae-4231-83c4-03d4a3b55411\" class=\"plotly-graph-div\" style=\"height:525px; width:100%;\"></div>            <script type=\"text/javascript\">                                    window.PLOTLYENV=window.PLOTLYENV || {};                                    if (document.getElementById(\"522679a8-63ae-4231-83c4-03d4a3b55411\")) {                    Plotly.newPlot(                        \"522679a8-63ae-4231-83c4-03d4a3b55411\",                        [{\"hovertemplate\":\"x=%{x}<br>y=%{y}<extra></extra>\",\"legendgroup\":\"\",\"marker\":{\"color\":\"#636efa\",\"symbol\":\"circle\"},\"mode\":\"markers\",\"name\":\"\",\"orientation\":\"v\",\"showlegend\":false,\"x\":[1.7578,1.8205,1.6632,1.7024,1.8772,1.852,1.8238,1.854,1.773,1.8849,1.9332,1.893,1.8286,1.7787,1.7359,1.7104,1.8686,1.7403,1.7697,1.9705,1.8952,1.8062,1.9244,1.9108,1.9392,1.8179,1.8941,1.894,1.9807,1.9009,1.8617,1.9435,1.9649,1.8876,1.8876,1.9693,1.9595,1.9599,1.9115,1.9345,2.1231,2.1231,2.0888,2.0133,1.9494,1.9768,1.9671,1.8792,1.9513,1.9659,1.9659,1.9554,1.9682,1.9682,1.9017,1.9783,1.8929,2.0714,2.0107,2.0107,1.9741,null,2.0253,1.989,1.9514,1.9507,2.0019,1.9253,1.9939,1.9675,1.9622,2.0238,1.969,1.969,2.0224,2.0089,1.9217,1.9133,2.0396,2.1582,2.0478,2.0773,2.2374,2.0845,2.1254,2.2018,2.101,2.1743,2.1416,2.2375,2.2235,2.1504,2.229,2.1312,2.2415,2.1131,2.1883,2.1547,2.1486,2.1495,2.1297,2.1638,2.2327,2.2153,2.21,2.1875,2.223,2.1472,2.1669,2.2718,2.2383,2.2283,2.2395,2.1842,2.1889,2.0581,2.203,2.203,2.3276,2.3088,2.2134,2.3161,2.2358,2.2209,2.1987,2.291,2.1878,2.2812,2.2163,2.189,2.2036,2.2202,2.324,2.1867,2.2776,2.1867,2.2074,2.1746,2.1784,2.1784,null,2.1814,null,2.2827,2.2119,2.2775,2.1554,2.1675,2.2076,2.2634,2.2159,2.2635,2.2399,2.2202,2.2735,2.2117,2.1912,2.2378,2.2378,2.2015,2.2347,2.2477,2.2369,2.227,2.2249,2.262,2.2116,2.2841,2.181,2.2391],\"xaxis\":\"x\",\"y\":[1.0,1.0,1.0,2.0,2.0,2.0,3.0,3.0,4.0,4.0,5.0,6.0,8.0,8.0,8.0,8.0,9.0,9.0,9.0,10.0,10.0,11.0,11.0,15.0,15.0,15.0,16.0,16.0,17.0,17.0,17.0,17.0,17.0,17.0,17.0,18.0,18.0,18.0,18.0,19.0,19.0,19.0,20.0,21.0,22.0,22.0,22.0,22.0,23.0,23.0,24.0,24.0,24.0,24.0,25.0,25.0,25.0,26.0,27.0,27.0,28.0,28.0,29.0,29.0,30.0,31.0,32.0,33.0,35.0,36.0,36.0,36.0,37.0,37.0,37.0,38.0,38.0,38.0,39.0,46.0,49.0,50.0,51.0,52.0,53.0,53.0,56.0,57.0,57.0,57.0,58.0,58.0,59.0,59.0,60.0,61.0,63.0,64.0,64.0,65.0,65.0,66.0,66.0,67.0,68.0,72.0,73.0,73.0,74.0,76.0,78.0,78.0,78.0,79.0,79.0,80.0,80.0,80.0,80.0,81.0,84.0,85.0,85.0,85.0,85.0,86.0,86.0,86.0,86.0,87.0,87.0,87.0,87.0,88.0,88.0,88.0,88.0,91.0,92.0,92.0,92.0,93.0,93.0,94.0,94.0,94.0,94.0,95.0,95.0,95.0,96.0,102.0,107.0,107.0,107.0,108.0,108.0,109.0,109.0,109.0,114.0,115.0,116.0,116.0,117.0,120.0,121.0,123.0,127.0,128.0],\"yaxis\":\"y\",\"type\":\"scatter\"}],                        {\"template\":{\"data\":{\"histogram2dcontour\":[{\"type\":\"histogram2dcontour\",\"colorbar\":{\"outlinewidth\":0,\"ticks\":\"\"},\"colorscale\":[[0.0,\"#0d0887\"],[0.1111111111111111,\"#46039f\"],[0.2222222222222222,\"#7201a8\"],[0.3333333333333333,\"#9c179e\"],[0.4444444444444444,\"#bd3786\"],[0.5555555555555556,\"#d8576b\"],[0.6666666666666666,\"#ed7953\"],[0.7777777777777778,\"#fb9f3a\"],[0.8888888888888888,\"#fdca26\"],[1.0,\"#f0f921\"]]}],\"choropleth\":[{\"type\":\"choropleth\",\"colorbar\":{\"outlinewidth\":0,\"ticks\":\"\"}}],\"histogram2d\":[{\"type\":\"histogram2d\",\"colorbar\":{\"outlinewidth\":0,\"ticks\":\"\"},\"colorscale\":[[0.0,\"#0d0887\"],[0.1111111111111111,\"#46039f\"],[0.2222222222222222,\"#7201a8\"],[0.3333333333333333,\"#9c179e\"],[0.4444444444444444,\"#bd3786\"],[0.5555555555555556,\"#d8576b\"],[0.6666666666666666,\"#ed7953\"],[0.7777777777777778,\"#fb9f3a\"],[0.8888888888888888,\"#fdca26\"],[1.0,\"#f0f921\"]]}],\"heatmap\":[{\"type\":\"heatmap\",\"colorbar\":{\"outlinewidth\":0,\"ticks\":\"\"},\"colorscale\":[[0.0,\"#0d0887\"],[0.1111111111111111,\"#46039f\"],[0.2222222222222222,\"#7201a8\"],[0.3333333333333333,\"#9c179e\"],[0.4444444444444444,\"#bd3786\"],[0.5555555555555556,\"#d8576b\"],[0.6666666666666666,\"#ed7953\"],[0.7777777777777778,\"#fb9f3a\"],[0.8888888888888888,\"#fdca26\"],[1.0,\"#f0f921\"]]}],\"heatmapgl\":[{\"type\":\"heatmapgl\",\"colorbar\":{\"outlinewidth\":0,\"ticks\":\"\"},\"colorscale\":[[0.0,\"#0d0887\"],[0.1111111111111111,\"#46039f\"],[0.2222222222222222,\"#7201a8\"],[0.3333333333333333,\"#9c179e\"],[0.4444444444444444,\"#bd3786\"],[0.5555555555555556,\"#d8576b\"],[0.6666666666666666,\"#ed7953\"],[0.7777777777777778,\"#fb9f3a\"],[0.8888888888888888,\"#fdca26\"],[1.0,\"#f0f921\"]]}],\"contourcarpet\":[{\"type\":\"contourcarpet\",\"colorbar\":{\"outlinewidth\":0,\"ticks\":\"\"}}],\"contour\":[{\"type\":\"contour\",\"colorbar\":{\"outlinewidth\":0,\"ticks\":\"\"},\"colorscale\":[[0.0,\"#0d0887\"],[0.1111111111111111,\"#46039f\"],[0.2222222222222222,\"#7201a8\"],[0.3333333333333333,\"#9c179e\"],[0.4444444444444444,\"#bd3786\"],[0.5555555555555556,\"#d8576b\"],[0.6666666666666666,\"#ed7953\"],[0.7777777777777778,\"#fb9f3a\"],[0.8888888888888888,\"#fdca26\"],[1.0,\"#f0f921\"]]}],\"surface\":[{\"type\":\"surface\",\"colorbar\":{\"outlinewidth\":0,\"ticks\":\"\"},\"colorscale\":[[0.0,\"#0d0887\"],[0.1111111111111111,\"#46039f\"],[0.2222222222222222,\"#7201a8\"],[0.3333333333333333,\"#9c179e\"],[0.4444444444444444,\"#bd3786\"],[0.5555555555555556,\"#d8576b\"],[0.6666666666666666,\"#ed7953\"],[0.7777777777777778,\"#fb9f3a\"],[0.8888888888888888,\"#fdca26\"],[1.0,\"#f0f921\"]]}],\"mesh3d\":[{\"type\":\"mesh3d\",\"colorbar\":{\"outlinewidth\":0,\"ticks\":\"\"}}],\"scatter\":[{\"fillpattern\":{\"fillmode\":\"overlay\",\"size\":10,\"solidity\":0.2},\"type\":\"scatter\"}],\"parcoords\":[{\"type\":\"parcoords\",\"line\":{\"colorbar\":{\"outlinewidth\":0,\"ticks\":\"\"}}}],\"scatterpolargl\":[{\"type\":\"scatterpolargl\",\"marker\":{\"colorbar\":{\"outlinewidth\":0,\"ticks\":\"\"}}}],\"bar\":[{\"error_x\":{\"color\":\"#2a3f5f\"},\"error_y\":{\"color\":\"#2a3f5f\"},\"marker\":{\"line\":{\"color\":\"#E5ECF6\",\"width\":0.5},\"pattern\":{\"fillmode\":\"overlay\",\"size\":10,\"solidity\":0.2}},\"type\":\"bar\"}],\"scattergeo\":[{\"type\":\"scattergeo\",\"marker\":{\"colorbar\":{\"outlinewidth\":0,\"ticks\":\"\"}}}],\"scatterpolar\":[{\"type\":\"scatterpolar\",\"marker\":{\"colorbar\":{\"outlinewidth\":0,\"ticks\":\"\"}}}],\"histogram\":[{\"marker\":{\"pattern\":{\"fillmode\":\"overlay\",\"size\":10,\"solidity\":0.2}},\"type\":\"histogram\"}],\"scattergl\":[{\"type\":\"scattergl\",\"marker\":{\"colorbar\":{\"outlinewidth\":0,\"ticks\":\"\"}}}],\"scatter3d\":[{\"type\":\"scatter3d\",\"line\":{\"colorbar\":{\"outlinewidth\":0,\"ticks\":\"\"}},\"marker\":{\"colorbar\":{\"outlinewidth\":0,\"ticks\":\"\"}}}],\"scattermapbox\":[{\"type\":\"scattermapbox\",\"marker\":{\"colorbar\":{\"outlinewidth\":0,\"ticks\":\"\"}}}],\"scatterternary\":[{\"type\":\"scatterternary\",\"marker\":{\"colorbar\":{\"outlinewidth\":0,\"ticks\":\"\"}}}],\"scattercarpet\":[{\"type\":\"scattercarpet\",\"marker\":{\"colorbar\":{\"outlinewidth\":0,\"ticks\":\"\"}}}],\"carpet\":[{\"aaxis\":{\"endlinecolor\":\"#2a3f5f\",\"gridcolor\":\"white\",\"linecolor\":\"white\",\"minorgridcolor\":\"white\",\"startlinecolor\":\"#2a3f5f\"},\"baxis\":{\"endlinecolor\":\"#2a3f5f\",\"gridcolor\":\"white\",\"linecolor\":\"white\",\"minorgridcolor\":\"white\",\"startlinecolor\":\"#2a3f5f\"},\"type\":\"carpet\"}],\"table\":[{\"cells\":{\"fill\":{\"color\":\"#EBF0F8\"},\"line\":{\"color\":\"white\"}},\"header\":{\"fill\":{\"color\":\"#C8D4E3\"},\"line\":{\"color\":\"white\"}},\"type\":\"table\"}],\"barpolar\":[{\"marker\":{\"line\":{\"color\":\"#E5ECF6\",\"width\":0.5},\"pattern\":{\"fillmode\":\"overlay\",\"size\":10,\"solidity\":0.2}},\"type\":\"barpolar\"}],\"pie\":[{\"automargin\":true,\"type\":\"pie\"}]},\"layout\":{\"autotypenumbers\":\"strict\",\"colorway\":[\"#636efa\",\"#EF553B\",\"#00cc96\",\"#ab63fa\",\"#FFA15A\",\"#19d3f3\",\"#FF6692\",\"#B6E880\",\"#FF97FF\",\"#FECB52\"],\"font\":{\"color\":\"#2a3f5f\"},\"hovermode\":\"closest\",\"hoverlabel\":{\"align\":\"left\"},\"paper_bgcolor\":\"white\",\"plot_bgcolor\":\"#E5ECF6\",\"polar\":{\"bgcolor\":\"#E5ECF6\",\"angularaxis\":{\"gridcolor\":\"white\",\"linecolor\":\"white\",\"ticks\":\"\"},\"radialaxis\":{\"gridcolor\":\"white\",\"linecolor\":\"white\",\"ticks\":\"\"}},\"ternary\":{\"bgcolor\":\"#E5ECF6\",\"aaxis\":{\"gridcolor\":\"white\",\"linecolor\":\"white\",\"ticks\":\"\"},\"baxis\":{\"gridcolor\":\"white\",\"linecolor\":\"white\",\"ticks\":\"\"},\"caxis\":{\"gridcolor\":\"white\",\"linecolor\":\"white\",\"ticks\":\"\"}},\"coloraxis\":{\"colorbar\":{\"outlinewidth\":0,\"ticks\":\"\"}},\"colorscale\":{\"sequential\":[[0.0,\"#0d0887\"],[0.1111111111111111,\"#46039f\"],[0.2222222222222222,\"#7201a8\"],[0.3333333333333333,\"#9c179e\"],[0.4444444444444444,\"#bd3786\"],[0.5555555555555556,\"#d8576b\"],[0.6666666666666666,\"#ed7953\"],[0.7777777777777778,\"#fb9f3a\"],[0.8888888888888888,\"#fdca26\"],[1.0,\"#f0f921\"]],\"sequentialminus\":[[0.0,\"#0d0887\"],[0.1111111111111111,\"#46039f\"],[0.2222222222222222,\"#7201a8\"],[0.3333333333333333,\"#9c179e\"],[0.4444444444444444,\"#bd3786\"],[0.5555555555555556,\"#d8576b\"],[0.6666666666666666,\"#ed7953\"],[0.7777777777777778,\"#fb9f3a\"],[0.8888888888888888,\"#fdca26\"],[1.0,\"#f0f921\"]],\"diverging\":[[0,\"#8e0152\"],[0.1,\"#c51b7d\"],[0.2,\"#de77ae\"],[0.3,\"#f1b6da\"],[0.4,\"#fde0ef\"],[0.5,\"#f7f7f7\"],[0.6,\"#e6f5d0\"],[0.7,\"#b8e186\"],[0.8,\"#7fbc41\"],[0.9,\"#4d9221\"],[1,\"#276419\"]]},\"xaxis\":{\"gridcolor\":\"white\",\"linecolor\":\"white\",\"ticks\":\"\",\"title\":{\"standoff\":15},\"zerolinecolor\":\"white\",\"automargin\":true,\"zerolinewidth\":2},\"yaxis\":{\"gridcolor\":\"white\",\"linecolor\":\"white\",\"ticks\":\"\",\"title\":{\"standoff\":15},\"zerolinecolor\":\"white\",\"automargin\":true,\"zerolinewidth\":2},\"scene\":{\"xaxis\":{\"backgroundcolor\":\"#E5ECF6\",\"gridcolor\":\"white\",\"linecolor\":\"white\",\"showbackground\":true,\"ticks\":\"\",\"zerolinecolor\":\"white\",\"gridwidth\":2},\"yaxis\":{\"backgroundcolor\":\"#E5ECF6\",\"gridcolor\":\"white\",\"linecolor\":\"white\",\"showbackground\":true,\"ticks\":\"\",\"zerolinecolor\":\"white\",\"gridwidth\":2},\"zaxis\":{\"backgroundcolor\":\"#E5ECF6\",\"gridcolor\":\"white\",\"linecolor\":\"white\",\"showbackground\":true,\"ticks\":\"\",\"zerolinecolor\":\"white\",\"gridwidth\":2}},\"shapedefaults\":{\"line\":{\"color\":\"#2a3f5f\"}},\"annotationdefaults\":{\"arrowcolor\":\"#2a3f5f\",\"arrowhead\":0,\"arrowwidth\":1},\"geo\":{\"bgcolor\":\"white\",\"landcolor\":\"#E5ECF6\",\"subunitcolor\":\"white\",\"showland\":true,\"showlakes\":true,\"lakecolor\":\"white\"},\"title\":{\"x\":0.05},\"mapbox\":{\"style\":\"light\"}}},\"xaxis\":{\"anchor\":\"y\",\"domain\":[0.0,1.0],\"title\":{\"text\":\"x\"}},\"yaxis\":{\"anchor\":\"x\",\"domain\":[0.0,1.0],\"title\":{\"text\":\"y\"}},\"legend\":{\"tracegroupgap\":0},\"margin\":{\"t\":60}},                        {\"responsive\": true}                    ).then(function(){\n",
              "                            \n",
              "var gd = document.getElementById('522679a8-63ae-4231-83c4-03d4a3b55411');\n",
              "var x = new MutationObserver(function (mutations, observer) {{\n",
              "        var display = window.getComputedStyle(gd).display;\n",
              "        if (!display || display === 'none') {{\n",
              "            console.log([gd, 'removed!']);\n",
              "            Plotly.purge(gd);\n",
              "            observer.disconnect();\n",
              "        }}\n",
              "}});\n",
              "\n",
              "// Listen for the removal of the full notebook cells\n",
              "var notebookContainer = gd.closest('#notebook-container');\n",
              "if (notebookContainer) {{\n",
              "    x.observe(notebookContainer, {childList: true});\n",
              "}}\n",
              "\n",
              "// Listen for the clearing of the current output cell\n",
              "var outputEl = gd.closest('.output');\n",
              "if (outputEl) {{\n",
              "    x.observe(outputEl, {childList: true});\n",
              "}}\n",
              "\n",
              "                        })                };                            </script>        </div>\n",
              "</body>\n",
              "</html>"
            ]
          },
          "metadata": {}
        },
        {
          "output_type": "display_data",
          "data": {
            "text/html": [
              "<html>\n",
              "<head><meta charset=\"utf-8\" /></head>\n",
              "<body>\n",
              "    <div>            <script src=\"https://cdnjs.cloudflare.com/ajax/libs/mathjax/2.7.5/MathJax.js?config=TeX-AMS-MML_SVG\"></script><script type=\"text/javascript\">if (window.MathJax && window.MathJax.Hub && window.MathJax.Hub.Config) {window.MathJax.Hub.Config({SVG: {font: \"STIX-Web\"}});}</script>                <script type=\"text/javascript\">window.PlotlyConfig = {MathJaxConfig: 'local'};</script>\n",
              "        <script src=\"https://cdn.plot.ly/plotly-2.18.2.min.js\"></script>                <div id=\"8988106f-5897-45a8-a5a8-8757cc8a095b\" class=\"plotly-graph-div\" style=\"height:525px; width:100%;\"></div>            <script type=\"text/javascript\">                                    window.PLOTLYENV=window.PLOTLYENV || {};                                    if (document.getElementById(\"8988106f-5897-45a8-a5a8-8757cc8a095b\")) {                    Plotly.newPlot(                        \"8988106f-5897-45a8-a5a8-8757cc8a095b\",                        [{\"hovertemplate\":\"Issuer=AGRICULTURAL BANK OF CHINA<br>Estimated Yield (SHCH)\\n[Date] Last Closing Day=%{x}<br>Days_to_maturity=%{y}<extra></extra>\",\"legendgroup\":\"AGRICULTURAL BANK OF CHINA\",\"marker\":{\"color\":\"#636efa\",\"symbol\":\"circle\"},\"mode\":\"markers\",\"name\":\"AGRICULTURAL BANK OF CHINA\",\"orientation\":\"v\",\"showlegend\":true,\"x\":[1.7578,1.7024,1.8238,1.773,1.9332,1.893,1.8286,1.7787,1.8686,1.8952,1.9244,1.9108,1.8941,1.9009,1.9649,1.8876,1.9693,1.9599,1.9115,2.1231,1.9494,1.8792,1.9513,1.9659,1.9682,1.9017,2.0107,2.0253,1.9939,1.9675,2.0238,1.969,2.0224,2.0089,1.9133,2.1582,2.0478,2.0773,2.2374,2.2018,2.101,2.2375,2.1504,2.1312,2.1486,2.1297,2.2327,2.2718,2.2383,2.2395,2.1842,2.1889,2.0581,2.203,2.3276,2.3088,2.3161,2.1987,2.291,2.2163,2.189,2.324,2.1867,2.2776,2.2074,2.1746,2.1784,null,null,2.2827,2.1675,2.2635,2.2399,2.2117,2.2378,2.2477,2.2369,2.2391],\"xaxis\":\"x\",\"y\":[1.0,2.0,3.0,4.0,5.0,6.0,8.0,8.0,9.0,10.0,11.0,15.0,16.0,17.0,17.0,17.0,18.0,18.0,18.0,19.0,22.0,22.0,23.0,24.0,24.0,25.0,27.0,29.0,35.0,36.0,36.0,37.0,37.0,38.0,38.0,46.0,49.0,50.0,51.0,53.0,56.0,57.0,58.0,59.0,64.0,65.0,66.0,76.0,78.0,78.0,79.0,79.0,80.0,80.0,80.0,81.0,85.0,85.0,86.0,86.0,87.0,87.0,88.0,88.0,88.0,91.0,92.0,92.0,93.0,94.0,95.0,102.0,107.0,108.0,109.0,115.0,116.0,128.0],\"yaxis\":\"y\",\"type\":\"scatter\"},{\"hovertemplate\":\"Issuer=China Construction Bank Corporation<br>Estimated Yield (SHCH)\\n[Date] Last Closing Day=%{x}<br>Days_to_maturity=%{y}<extra></extra>\",\"legendgroup\":\"China Construction Bank Corporation\",\"marker\":{\"color\":\"#EF553B\",\"symbol\":\"circle\"},\"mode\":\"markers\",\"name\":\"China Construction Bank Corporation\",\"orientation\":\"v\",\"showlegend\":true,\"x\":[1.8205,1.6632,1.8772,1.854,1.8849,1.7104,1.7697,1.9705,1.8062,1.8179,1.894,1.9435,1.8876,1.9595,1.9345,2.1231,2.0888,2.0133,1.9671,1.9659,1.9554,1.9682,1.9783,1.8929,2.0714,2.0107,null,1.989,1.9514,1.9507,2.0019,1.9253,1.9622,1.969,1.9217,2.0396,2.0845,2.1254,2.1743,2.2235,2.229,2.2415,2.1131,2.1547,2.1495,2.1638,2.2153,2.21,2.1875,2.1472,2.1669,2.2283,2.2209,2.2812,2.2202,2.1867,2.1554,2.2634,2.2159,2.2202,2.1912,2.2015,2.2347,2.227,2.2249,2.262,2.2116,2.181],\"xaxis\":\"x\",\"y\":[1.0,1.0,2.0,3.0,4.0,8.0,9.0,10.0,11.0,15.0,16.0,17.0,17.0,18.0,19.0,19.0,20.0,21.0,22.0,23.0,24.0,24.0,25.0,25.0,26.0,27.0,28.0,29.0,30.0,31.0,32.0,33.0,36.0,37.0,38.0,39.0,52.0,53.0,57.0,58.0,59.0,60.0,61.0,64.0,65.0,66.0,67.0,68.0,72.0,73.0,74.0,78.0,85.0,86.0,87.0,88.0,94.0,95.0,96.0,107.0,108.0,109.0,114.0,116.0,117.0,120.0,121.0,127.0],\"yaxis\":\"y\",\"type\":\"scatter\"},{\"hovertemplate\":\"Issuer=BANK OF CHINA<br>Estimated Yield (SHCH)\\n[Date] Last Closing Day=%{x}<br>Days_to_maturity=%{y}<extra></extra>\",\"legendgroup\":\"BANK OF CHINA\",\"marker\":{\"color\":\"#00cc96\",\"symbol\":\"circle\"},\"mode\":\"markers\",\"name\":\"BANK OF CHINA\",\"orientation\":\"v\",\"showlegend\":true,\"x\":[1.852,1.7359,1.7403,1.9392,1.8617,1.9768,2.1883,2.223,2.2358,2.1878,2.2036,2.2119,2.2775,2.2076,2.2735,2.2378],\"xaxis\":\"x\",\"y\":[2.0,8.0,9.0,15.0,17.0,22.0,63.0,73.0,85.0,86.0,87.0,94.0,94.0,95.0,107.0,109.0],\"yaxis\":\"y\",\"type\":\"scatter\"},{\"hovertemplate\":\"Issuer=ICBC<br>Estimated Yield (SHCH)\\n[Date] Last Closing Day=%{x}<br>Days_to_maturity=%{y}<extra></extra>\",\"legendgroup\":\"ICBC\",\"marker\":{\"color\":\"#ab63fa\",\"symbol\":\"circle\"},\"mode\":\"markers\",\"name\":\"ICBC\",\"orientation\":\"v\",\"showlegend\":true,\"x\":[1.9807,1.9741,2.1416,2.203,2.2134,2.1784,2.1814,2.2841],\"xaxis\":\"x\",\"y\":[17.0,28.0,57.0,80.0,84.0,92.0,93.0,123.0],\"yaxis\":\"y\",\"type\":\"scatter\"}],                        {\"template\":{\"data\":{\"histogram2dcontour\":[{\"type\":\"histogram2dcontour\",\"colorbar\":{\"outlinewidth\":0,\"ticks\":\"\"},\"colorscale\":[[0.0,\"#0d0887\"],[0.1111111111111111,\"#46039f\"],[0.2222222222222222,\"#7201a8\"],[0.3333333333333333,\"#9c179e\"],[0.4444444444444444,\"#bd3786\"],[0.5555555555555556,\"#d8576b\"],[0.6666666666666666,\"#ed7953\"],[0.7777777777777778,\"#fb9f3a\"],[0.8888888888888888,\"#fdca26\"],[1.0,\"#f0f921\"]]}],\"choropleth\":[{\"type\":\"choropleth\",\"colorbar\":{\"outlinewidth\":0,\"ticks\":\"\"}}],\"histogram2d\":[{\"type\":\"histogram2d\",\"colorbar\":{\"outlinewidth\":0,\"ticks\":\"\"},\"colorscale\":[[0.0,\"#0d0887\"],[0.1111111111111111,\"#46039f\"],[0.2222222222222222,\"#7201a8\"],[0.3333333333333333,\"#9c179e\"],[0.4444444444444444,\"#bd3786\"],[0.5555555555555556,\"#d8576b\"],[0.6666666666666666,\"#ed7953\"],[0.7777777777777778,\"#fb9f3a\"],[0.8888888888888888,\"#fdca26\"],[1.0,\"#f0f921\"]]}],\"heatmap\":[{\"type\":\"heatmap\",\"colorbar\":{\"outlinewidth\":0,\"ticks\":\"\"},\"colorscale\":[[0.0,\"#0d0887\"],[0.1111111111111111,\"#46039f\"],[0.2222222222222222,\"#7201a8\"],[0.3333333333333333,\"#9c179e\"],[0.4444444444444444,\"#bd3786\"],[0.5555555555555556,\"#d8576b\"],[0.6666666666666666,\"#ed7953\"],[0.7777777777777778,\"#fb9f3a\"],[0.8888888888888888,\"#fdca26\"],[1.0,\"#f0f921\"]]}],\"heatmapgl\":[{\"type\":\"heatmapgl\",\"colorbar\":{\"outlinewidth\":0,\"ticks\":\"\"},\"colorscale\":[[0.0,\"#0d0887\"],[0.1111111111111111,\"#46039f\"],[0.2222222222222222,\"#7201a8\"],[0.3333333333333333,\"#9c179e\"],[0.4444444444444444,\"#bd3786\"],[0.5555555555555556,\"#d8576b\"],[0.6666666666666666,\"#ed7953\"],[0.7777777777777778,\"#fb9f3a\"],[0.8888888888888888,\"#fdca26\"],[1.0,\"#f0f921\"]]}],\"contourcarpet\":[{\"type\":\"contourcarpet\",\"colorbar\":{\"outlinewidth\":0,\"ticks\":\"\"}}],\"contour\":[{\"type\":\"contour\",\"colorbar\":{\"outlinewidth\":0,\"ticks\":\"\"},\"colorscale\":[[0.0,\"#0d0887\"],[0.1111111111111111,\"#46039f\"],[0.2222222222222222,\"#7201a8\"],[0.3333333333333333,\"#9c179e\"],[0.4444444444444444,\"#bd3786\"],[0.5555555555555556,\"#d8576b\"],[0.6666666666666666,\"#ed7953\"],[0.7777777777777778,\"#fb9f3a\"],[0.8888888888888888,\"#fdca26\"],[1.0,\"#f0f921\"]]}],\"surface\":[{\"type\":\"surface\",\"colorbar\":{\"outlinewidth\":0,\"ticks\":\"\"},\"colorscale\":[[0.0,\"#0d0887\"],[0.1111111111111111,\"#46039f\"],[0.2222222222222222,\"#7201a8\"],[0.3333333333333333,\"#9c179e\"],[0.4444444444444444,\"#bd3786\"],[0.5555555555555556,\"#d8576b\"],[0.6666666666666666,\"#ed7953\"],[0.7777777777777778,\"#fb9f3a\"],[0.8888888888888888,\"#fdca26\"],[1.0,\"#f0f921\"]]}],\"mesh3d\":[{\"type\":\"mesh3d\",\"colorbar\":{\"outlinewidth\":0,\"ticks\":\"\"}}],\"scatter\":[{\"fillpattern\":{\"fillmode\":\"overlay\",\"size\":10,\"solidity\":0.2},\"type\":\"scatter\"}],\"parcoords\":[{\"type\":\"parcoords\",\"line\":{\"colorbar\":{\"outlinewidth\":0,\"ticks\":\"\"}}}],\"scatterpolargl\":[{\"type\":\"scatterpolargl\",\"marker\":{\"colorbar\":{\"outlinewidth\":0,\"ticks\":\"\"}}}],\"bar\":[{\"error_x\":{\"color\":\"#2a3f5f\"},\"error_y\":{\"color\":\"#2a3f5f\"},\"marker\":{\"line\":{\"color\":\"#E5ECF6\",\"width\":0.5},\"pattern\":{\"fillmode\":\"overlay\",\"size\":10,\"solidity\":0.2}},\"type\":\"bar\"}],\"scattergeo\":[{\"type\":\"scattergeo\",\"marker\":{\"colorbar\":{\"outlinewidth\":0,\"ticks\":\"\"}}}],\"scatterpolar\":[{\"type\":\"scatterpolar\",\"marker\":{\"colorbar\":{\"outlinewidth\":0,\"ticks\":\"\"}}}],\"histogram\":[{\"marker\":{\"pattern\":{\"fillmode\":\"overlay\",\"size\":10,\"solidity\":0.2}},\"type\":\"histogram\"}],\"scattergl\":[{\"type\":\"scattergl\",\"marker\":{\"colorbar\":{\"outlinewidth\":0,\"ticks\":\"\"}}}],\"scatter3d\":[{\"type\":\"scatter3d\",\"line\":{\"colorbar\":{\"outlinewidth\":0,\"ticks\":\"\"}},\"marker\":{\"colorbar\":{\"outlinewidth\":0,\"ticks\":\"\"}}}],\"scattermapbox\":[{\"type\":\"scattermapbox\",\"marker\":{\"colorbar\":{\"outlinewidth\":0,\"ticks\":\"\"}}}],\"scatterternary\":[{\"type\":\"scatterternary\",\"marker\":{\"colorbar\":{\"outlinewidth\":0,\"ticks\":\"\"}}}],\"scattercarpet\":[{\"type\":\"scattercarpet\",\"marker\":{\"colorbar\":{\"outlinewidth\":0,\"ticks\":\"\"}}}],\"carpet\":[{\"aaxis\":{\"endlinecolor\":\"#2a3f5f\",\"gridcolor\":\"white\",\"linecolor\":\"white\",\"minorgridcolor\":\"white\",\"startlinecolor\":\"#2a3f5f\"},\"baxis\":{\"endlinecolor\":\"#2a3f5f\",\"gridcolor\":\"white\",\"linecolor\":\"white\",\"minorgridcolor\":\"white\",\"startlinecolor\":\"#2a3f5f\"},\"type\":\"carpet\"}],\"table\":[{\"cells\":{\"fill\":{\"color\":\"#EBF0F8\"},\"line\":{\"color\":\"white\"}},\"header\":{\"fill\":{\"color\":\"#C8D4E3\"},\"line\":{\"color\":\"white\"}},\"type\":\"table\"}],\"barpolar\":[{\"marker\":{\"line\":{\"color\":\"#E5ECF6\",\"width\":0.5},\"pattern\":{\"fillmode\":\"overlay\",\"size\":10,\"solidity\":0.2}},\"type\":\"barpolar\"}],\"pie\":[{\"automargin\":true,\"type\":\"pie\"}]},\"layout\":{\"autotypenumbers\":\"strict\",\"colorway\":[\"#636efa\",\"#EF553B\",\"#00cc96\",\"#ab63fa\",\"#FFA15A\",\"#19d3f3\",\"#FF6692\",\"#B6E880\",\"#FF97FF\",\"#FECB52\"],\"font\":{\"color\":\"#2a3f5f\"},\"hovermode\":\"closest\",\"hoverlabel\":{\"align\":\"left\"},\"paper_bgcolor\":\"white\",\"plot_bgcolor\":\"#E5ECF6\",\"polar\":{\"bgcolor\":\"#E5ECF6\",\"angularaxis\":{\"gridcolor\":\"white\",\"linecolor\":\"white\",\"ticks\":\"\"},\"radialaxis\":{\"gridcolor\":\"white\",\"linecolor\":\"white\",\"ticks\":\"\"}},\"ternary\":{\"bgcolor\":\"#E5ECF6\",\"aaxis\":{\"gridcolor\":\"white\",\"linecolor\":\"white\",\"ticks\":\"\"},\"baxis\":{\"gridcolor\":\"white\",\"linecolor\":\"white\",\"ticks\":\"\"},\"caxis\":{\"gridcolor\":\"white\",\"linecolor\":\"white\",\"ticks\":\"\"}},\"coloraxis\":{\"colorbar\":{\"outlinewidth\":0,\"ticks\":\"\"}},\"colorscale\":{\"sequential\":[[0.0,\"#0d0887\"],[0.1111111111111111,\"#46039f\"],[0.2222222222222222,\"#7201a8\"],[0.3333333333333333,\"#9c179e\"],[0.4444444444444444,\"#bd3786\"],[0.5555555555555556,\"#d8576b\"],[0.6666666666666666,\"#ed7953\"],[0.7777777777777778,\"#fb9f3a\"],[0.8888888888888888,\"#fdca26\"],[1.0,\"#f0f921\"]],\"sequentialminus\":[[0.0,\"#0d0887\"],[0.1111111111111111,\"#46039f\"],[0.2222222222222222,\"#7201a8\"],[0.3333333333333333,\"#9c179e\"],[0.4444444444444444,\"#bd3786\"],[0.5555555555555556,\"#d8576b\"],[0.6666666666666666,\"#ed7953\"],[0.7777777777777778,\"#fb9f3a\"],[0.8888888888888888,\"#fdca26\"],[1.0,\"#f0f921\"]],\"diverging\":[[0,\"#8e0152\"],[0.1,\"#c51b7d\"],[0.2,\"#de77ae\"],[0.3,\"#f1b6da\"],[0.4,\"#fde0ef\"],[0.5,\"#f7f7f7\"],[0.6,\"#e6f5d0\"],[0.7,\"#b8e186\"],[0.8,\"#7fbc41\"],[0.9,\"#4d9221\"],[1,\"#276419\"]]},\"xaxis\":{\"gridcolor\":\"white\",\"linecolor\":\"white\",\"ticks\":\"\",\"title\":{\"standoff\":15},\"zerolinecolor\":\"white\",\"automargin\":true,\"zerolinewidth\":2},\"yaxis\":{\"gridcolor\":\"white\",\"linecolor\":\"white\",\"ticks\":\"\",\"title\":{\"standoff\":15},\"zerolinecolor\":\"white\",\"automargin\":true,\"zerolinewidth\":2},\"scene\":{\"xaxis\":{\"backgroundcolor\":\"#E5ECF6\",\"gridcolor\":\"white\",\"linecolor\":\"white\",\"showbackground\":true,\"ticks\":\"\",\"zerolinecolor\":\"white\",\"gridwidth\":2},\"yaxis\":{\"backgroundcolor\":\"#E5ECF6\",\"gridcolor\":\"white\",\"linecolor\":\"white\",\"showbackground\":true,\"ticks\":\"\",\"zerolinecolor\":\"white\",\"gridwidth\":2},\"zaxis\":{\"backgroundcolor\":\"#E5ECF6\",\"gridcolor\":\"white\",\"linecolor\":\"white\",\"showbackground\":true,\"ticks\":\"\",\"zerolinecolor\":\"white\",\"gridwidth\":2}},\"shapedefaults\":{\"line\":{\"color\":\"#2a3f5f\"}},\"annotationdefaults\":{\"arrowcolor\":\"#2a3f5f\",\"arrowhead\":0,\"arrowwidth\":1},\"geo\":{\"bgcolor\":\"white\",\"landcolor\":\"#E5ECF6\",\"subunitcolor\":\"white\",\"showland\":true,\"showlakes\":true,\"lakecolor\":\"white\"},\"title\":{\"x\":0.05},\"mapbox\":{\"style\":\"light\"}}},\"xaxis\":{\"anchor\":\"y\",\"domain\":[0.0,1.0],\"title\":{\"text\":\"Estimated Yield (SHCH)\\n[Date] Last Closing Day\"}},\"yaxis\":{\"anchor\":\"x\",\"domain\":[0.0,1.0],\"title\":{\"text\":\"Days_to_maturity\"}},\"legend\":{\"title\":{\"text\":\"Issuer\"},\"tracegroupgap\":0},\"margin\":{\"t\":60}},                        {\"responsive\": true}                    ).then(function(){\n",
              "                            \n",
              "var gd = document.getElementById('8988106f-5897-45a8-a5a8-8757cc8a095b');\n",
              "var x = new MutationObserver(function (mutations, observer) {{\n",
              "        var display = window.getComputedStyle(gd).display;\n",
              "        if (!display || display === 'none') {{\n",
              "            console.log([gd, 'removed!']);\n",
              "            Plotly.purge(gd);\n",
              "            observer.disconnect();\n",
              "        }}\n",
              "}});\n",
              "\n",
              "// Listen for the removal of the full notebook cells\n",
              "var notebookContainer = gd.closest('#notebook-container');\n",
              "if (notebookContainer) {{\n",
              "    x.observe(notebookContainer, {childList: true});\n",
              "}}\n",
              "\n",
              "// Listen for the clearing of the current output cell\n",
              "var outputEl = gd.closest('.output');\n",
              "if (outputEl) {{\n",
              "    x.observe(outputEl, {childList: true});\n",
              "}}\n",
              "\n",
              "                        })                };                            </script>        </div>\n",
              "</body>\n",
              "</html>"
            ]
          },
          "metadata": {}
        }
      ]
    },
    {
      "cell_type": "code",
      "source": [],
      "metadata": {
        "id": "BSDuhwzDRwHA"
      },
      "execution_count": 4,
      "outputs": []
    }
  ]
}